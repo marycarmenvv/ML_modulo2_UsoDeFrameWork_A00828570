{
  "nbformat": 4,
  "nbformat_minor": 0,
  "metadata": {
    "colab": {
      "provenance": [],
      "mount_file_id": "1Gm1i0N6wVG2PQrmrlN5xzXsGKfJtOnpL",
      "authorship_tag": "ABX9TyPZ74QlMV7WgbS7+mewOjr0",
      "include_colab_link": true
    },
    "kernelspec": {
      "name": "python3",
      "display_name": "Python 3"
    },
    "language_info": {
      "name": "python"
    }
  },
  "cells": [
    {
      "cell_type": "markdown",
      "metadata": {
        "id": "view-in-github",
        "colab_type": "text"
      },
      "source": [
        "<a href=\"https://colab.research.google.com/github/marycarmenvv/ML_modulo2_UsoDeFrameWork_A00828570/blob/main/Copy_of_UsoDeFramework_A00828570.ipynb\" target=\"_parent\"><img src=\"https://colab.research.google.com/assets/colab-badge.svg\" alt=\"Open In Colab\"/></a>"
      ]
    },
    {
      "cell_type": "markdown",
      "source": [
        "# **Módulo 2. Uso de framework o biblioteca de aprendizaje máquina para la implementación de una solución. (Portafolio Implementación)**\n",
        "# María del Carmen Vargas Villarreal A00828570\n",
        "# Machine Learning: Decision Trees"
      ],
      "metadata": {
        "id": "dBojsadibBpF"
      }
    },
    {
      "cell_type": "markdown",
      "source": [
        "Importamos librerias necesarias"
      ],
      "metadata": {
        "id": "Es5Q5REcb-oQ"
      }
    },
    {
      "cell_type": "code",
      "source": [
        "from sklearn import tree\n",
        "from sklearn import preprocessing\n",
        "from IPython.display import Image\n",
        "import pydotplus\n",
        "import matplotlib.pyplot as plt\n",
        "\n",
        "from datetime import datetime\n",
        "\n",
        "from sklearn.model_selection import train_test_split \n",
        "from sklearn import metrics\n",
        "from sklearn.metrics import confusion_matrix\n",
        "\n",
        "import seaborn as sns\n",
        "import numpy as np\n",
        "import pandas as pd"
      ],
      "metadata": {
        "id": "ea3moYFobJ95"
      },
      "execution_count": null,
      "outputs": []
    },
    {
      "cell_type": "markdown",
      "source": [
        "Leemos base de datos: Iris.csv"
      ],
      "metadata": {
        "id": "ihScACqgcOyL"
      }
    },
    {
      "cell_type": "code",
      "execution_count": null,
      "metadata": {
        "id": "IdTX9ILGUKOH",
        "colab": {
          "base_uri": "https://localhost:8080/",
          "height": 424
        },
        "outputId": "104bc608-d7b2-4cbe-91cf-19ea42b7e199"
      },
      "outputs": [
        {
          "output_type": "execute_result",
          "data": {
            "text/plain": [
              "      Id  SepalLengthCm  SepalWidthCm  PetalLengthCm  PetalWidthCm  \\\n",
              "0      1            5.1           3.5            1.4           0.2   \n",
              "1      2            4.9           3.0            1.4           0.2   \n",
              "2      3            4.7           3.2            1.3           0.2   \n",
              "3      4            4.6           3.1            1.5           0.2   \n",
              "4      5            5.0           3.6            1.4           0.2   \n",
              "..   ...            ...           ...            ...           ...   \n",
              "145  146            6.7           3.0            5.2           2.3   \n",
              "146  147            6.3           2.5            5.0           1.9   \n",
              "147  148            6.5           3.0            5.2           2.0   \n",
              "148  149            6.2           3.4            5.4           2.3   \n",
              "149  150            5.9           3.0            5.1           1.8   \n",
              "\n",
              "            Species  \n",
              "0       Iris-setosa  \n",
              "1       Iris-setosa  \n",
              "2       Iris-setosa  \n",
              "3       Iris-setosa  \n",
              "4       Iris-setosa  \n",
              "..              ...  \n",
              "145  Iris-virginica  \n",
              "146  Iris-virginica  \n",
              "147  Iris-virginica  \n",
              "148  Iris-virginica  \n",
              "149  Iris-virginica  \n",
              "\n",
              "[150 rows x 6 columns]"
            ],
            "text/html": [
              "\n",
              "  <div id=\"df-08339a80-d981-439e-a7b3-697d6b154c34\">\n",
              "    <div class=\"colab-df-container\">\n",
              "      <div>\n",
              "<style scoped>\n",
              "    .dataframe tbody tr th:only-of-type {\n",
              "        vertical-align: middle;\n",
              "    }\n",
              "\n",
              "    .dataframe tbody tr th {\n",
              "        vertical-align: top;\n",
              "    }\n",
              "\n",
              "    .dataframe thead th {\n",
              "        text-align: right;\n",
              "    }\n",
              "</style>\n",
              "<table border=\"1\" class=\"dataframe\">\n",
              "  <thead>\n",
              "    <tr style=\"text-align: right;\">\n",
              "      <th></th>\n",
              "      <th>Id</th>\n",
              "      <th>SepalLengthCm</th>\n",
              "      <th>SepalWidthCm</th>\n",
              "      <th>PetalLengthCm</th>\n",
              "      <th>PetalWidthCm</th>\n",
              "      <th>Species</th>\n",
              "    </tr>\n",
              "  </thead>\n",
              "  <tbody>\n",
              "    <tr>\n",
              "      <th>0</th>\n",
              "      <td>1</td>\n",
              "      <td>5.1</td>\n",
              "      <td>3.5</td>\n",
              "      <td>1.4</td>\n",
              "      <td>0.2</td>\n",
              "      <td>Iris-setosa</td>\n",
              "    </tr>\n",
              "    <tr>\n",
              "      <th>1</th>\n",
              "      <td>2</td>\n",
              "      <td>4.9</td>\n",
              "      <td>3.0</td>\n",
              "      <td>1.4</td>\n",
              "      <td>0.2</td>\n",
              "      <td>Iris-setosa</td>\n",
              "    </tr>\n",
              "    <tr>\n",
              "      <th>2</th>\n",
              "      <td>3</td>\n",
              "      <td>4.7</td>\n",
              "      <td>3.2</td>\n",
              "      <td>1.3</td>\n",
              "      <td>0.2</td>\n",
              "      <td>Iris-setosa</td>\n",
              "    </tr>\n",
              "    <tr>\n",
              "      <th>3</th>\n",
              "      <td>4</td>\n",
              "      <td>4.6</td>\n",
              "      <td>3.1</td>\n",
              "      <td>1.5</td>\n",
              "      <td>0.2</td>\n",
              "      <td>Iris-setosa</td>\n",
              "    </tr>\n",
              "    <tr>\n",
              "      <th>4</th>\n",
              "      <td>5</td>\n",
              "      <td>5.0</td>\n",
              "      <td>3.6</td>\n",
              "      <td>1.4</td>\n",
              "      <td>0.2</td>\n",
              "      <td>Iris-setosa</td>\n",
              "    </tr>\n",
              "    <tr>\n",
              "      <th>...</th>\n",
              "      <td>...</td>\n",
              "      <td>...</td>\n",
              "      <td>...</td>\n",
              "      <td>...</td>\n",
              "      <td>...</td>\n",
              "      <td>...</td>\n",
              "    </tr>\n",
              "    <tr>\n",
              "      <th>145</th>\n",
              "      <td>146</td>\n",
              "      <td>6.7</td>\n",
              "      <td>3.0</td>\n",
              "      <td>5.2</td>\n",
              "      <td>2.3</td>\n",
              "      <td>Iris-virginica</td>\n",
              "    </tr>\n",
              "    <tr>\n",
              "      <th>146</th>\n",
              "      <td>147</td>\n",
              "      <td>6.3</td>\n",
              "      <td>2.5</td>\n",
              "      <td>5.0</td>\n",
              "      <td>1.9</td>\n",
              "      <td>Iris-virginica</td>\n",
              "    </tr>\n",
              "    <tr>\n",
              "      <th>147</th>\n",
              "      <td>148</td>\n",
              "      <td>6.5</td>\n",
              "      <td>3.0</td>\n",
              "      <td>5.2</td>\n",
              "      <td>2.0</td>\n",
              "      <td>Iris-virginica</td>\n",
              "    </tr>\n",
              "    <tr>\n",
              "      <th>148</th>\n",
              "      <td>149</td>\n",
              "      <td>6.2</td>\n",
              "      <td>3.4</td>\n",
              "      <td>5.4</td>\n",
              "      <td>2.3</td>\n",
              "      <td>Iris-virginica</td>\n",
              "    </tr>\n",
              "    <tr>\n",
              "      <th>149</th>\n",
              "      <td>150</td>\n",
              "      <td>5.9</td>\n",
              "      <td>3.0</td>\n",
              "      <td>5.1</td>\n",
              "      <td>1.8</td>\n",
              "      <td>Iris-virginica</td>\n",
              "    </tr>\n",
              "  </tbody>\n",
              "</table>\n",
              "<p>150 rows × 6 columns</p>\n",
              "</div>\n",
              "      <button class=\"colab-df-convert\" onclick=\"convertToInteractive('df-08339a80-d981-439e-a7b3-697d6b154c34')\"\n",
              "              title=\"Convert this dataframe to an interactive table.\"\n",
              "              style=\"display:none;\">\n",
              "        \n",
              "  <svg xmlns=\"http://www.w3.org/2000/svg\" height=\"24px\"viewBox=\"0 0 24 24\"\n",
              "       width=\"24px\">\n",
              "    <path d=\"M0 0h24v24H0V0z\" fill=\"none\"/>\n",
              "    <path d=\"M18.56 5.44l.94 2.06.94-2.06 2.06-.94-2.06-.94-.94-2.06-.94 2.06-2.06.94zm-11 1L8.5 8.5l.94-2.06 2.06-.94-2.06-.94L8.5 2.5l-.94 2.06-2.06.94zm10 10l.94 2.06.94-2.06 2.06-.94-2.06-.94-.94-2.06-.94 2.06-2.06.94z\"/><path d=\"M17.41 7.96l-1.37-1.37c-.4-.4-.92-.59-1.43-.59-.52 0-1.04.2-1.43.59L10.3 9.45l-7.72 7.72c-.78.78-.78 2.05 0 2.83L4 21.41c.39.39.9.59 1.41.59.51 0 1.02-.2 1.41-.59l7.78-7.78 2.81-2.81c.8-.78.8-2.07 0-2.86zM5.41 20L4 18.59l7.72-7.72 1.47 1.35L5.41 20z\"/>\n",
              "  </svg>\n",
              "      </button>\n",
              "      \n",
              "  <style>\n",
              "    .colab-df-container {\n",
              "      display:flex;\n",
              "      flex-wrap:wrap;\n",
              "      gap: 12px;\n",
              "    }\n",
              "\n",
              "    .colab-df-convert {\n",
              "      background-color: #E8F0FE;\n",
              "      border: none;\n",
              "      border-radius: 50%;\n",
              "      cursor: pointer;\n",
              "      display: none;\n",
              "      fill: #1967D2;\n",
              "      height: 32px;\n",
              "      padding: 0 0 0 0;\n",
              "      width: 32px;\n",
              "    }\n",
              "\n",
              "    .colab-df-convert:hover {\n",
              "      background-color: #E2EBFA;\n",
              "      box-shadow: 0px 1px 2px rgba(60, 64, 67, 0.3), 0px 1px 3px 1px rgba(60, 64, 67, 0.15);\n",
              "      fill: #174EA6;\n",
              "    }\n",
              "\n",
              "    [theme=dark] .colab-df-convert {\n",
              "      background-color: #3B4455;\n",
              "      fill: #D2E3FC;\n",
              "    }\n",
              "\n",
              "    [theme=dark] .colab-df-convert:hover {\n",
              "      background-color: #434B5C;\n",
              "      box-shadow: 0px 1px 3px 1px rgba(0, 0, 0, 0.15);\n",
              "      filter: drop-shadow(0px 1px 2px rgba(0, 0, 0, 0.3));\n",
              "      fill: #FFFFFF;\n",
              "    }\n",
              "  </style>\n",
              "\n",
              "      <script>\n",
              "        const buttonEl =\n",
              "          document.querySelector('#df-08339a80-d981-439e-a7b3-697d6b154c34 button.colab-df-convert');\n",
              "        buttonEl.style.display =\n",
              "          google.colab.kernel.accessAllowed ? 'block' : 'none';\n",
              "\n",
              "        async function convertToInteractive(key) {\n",
              "          const element = document.querySelector('#df-08339a80-d981-439e-a7b3-697d6b154c34');\n",
              "          const dataTable =\n",
              "            await google.colab.kernel.invokeFunction('convertToInteractive',\n",
              "                                                     [key], {});\n",
              "          if (!dataTable) return;\n",
              "\n",
              "          const docLinkHtml = 'Like what you see? Visit the ' +\n",
              "            '<a target=\"_blank\" href=https://colab.research.google.com/notebooks/data_table.ipynb>data table notebook</a>'\n",
              "            + ' to learn more about interactive tables.';\n",
              "          element.innerHTML = '';\n",
              "          dataTable['output_type'] = 'display_data';\n",
              "          await google.colab.output.renderOutput(dataTable, element);\n",
              "          const docLink = document.createElement('div');\n",
              "          docLink.innerHTML = docLinkHtml;\n",
              "          element.appendChild(docLink);\n",
              "        }\n",
              "      </script>\n",
              "    </div>\n",
              "  </div>\n",
              "  "
            ]
          },
          "metadata": {},
          "execution_count": 2
        }
      ],
      "source": [
        "df_iris = pd.read_csv('/content/drive/MyDrive/Colab Notebooks/Iris.csv')\n",
        "df_iris"
      ]
    },
    {
      "cell_type": "markdown",
      "source": [
        "Separamos las variables y etiquetas"
      ],
      "metadata": {
        "id": "LZ8_d_aJcwKf"
      }
    },
    {
      "cell_type": "code",
      "source": [
        "# Etiqueta\n",
        "Y_iris = df_iris['Species']\n",
        "\n",
        "# Variables\n",
        "X_iris = df_iris.values[:, 1:5] # 5-1\n"
      ],
      "metadata": {
        "id": "f-90uApjczUZ"
      },
      "execution_count": null,
      "outputs": []
    },
    {
      "cell_type": "markdown",
      "source": [
        "Dividimos en training y test set"
      ],
      "metadata": {
        "id": "i0zt2RlBfJCW"
      }
    },
    {
      "cell_type": "code",
      "source": [
        "X_train_iris, X_test_iris, y_train_iris, y_test_iris = train_test_split(X_iris, Y_iris, test_size=0.3, random_state=42)\n"
      ],
      "metadata": {
        "id": "7-wOV31UfWFT"
      },
      "execution_count": null,
      "outputs": []
    },
    {
      "cell_type": "markdown",
      "source": [
        "Implementación del método DecisionTreeClassifier "
      ],
      "metadata": {
        "id": "G21WIVe1djZj"
      }
    },
    {
      "cell_type": "code",
      "source": [
        "clf_tree_iris = tree.DecisionTreeClassifier(ccp_alpha=0.0, class_weight=None, criterion='gini',\n",
        "                       max_depth=None, max_features=None, max_leaf_nodes=None,\n",
        "                       min_impurity_decrease=0.0,\n",
        "                       min_samples_leaf=1, min_samples_split=2,\n",
        "                       min_weight_fraction_leaf=0.0,\n",
        "                       random_state=None, splitter='best')\n",
        "\n",
        "# Train Decision Tree Classifer\n",
        "clf_tree_iris = clf_tree_iris.fit(X_train_iris, y_train_iris)"
      ],
      "metadata": {
        "id": "qg32MeaydKRj"
      },
      "execution_count": null,
      "outputs": []
    },
    {
      "cell_type": "markdown",
      "source": [
        "Predict the response for test dataset"
      ],
      "metadata": {
        "id": "6jKaDUEYfy4l"
      }
    },
    {
      "cell_type": "code",
      "source": [
        "test_pred_decision_tree = clf_tree_iris.predict(X_test_iris)\n"
      ],
      "metadata": {
        "id": "t4XfvKf3fz0O"
      },
      "execution_count": null,
      "outputs": []
    },
    {
      "cell_type": "markdown",
      "source": [
        "Verificación de predicciones"
      ],
      "metadata": {
        "id": "yl2Sqd8FhKQN"
      }
    },
    {
      "cell_type": "code",
      "source": [
        "#Predicción 1\n",
        "print(clf_tree_iris.predict([[4.6, 3.2, 1.5, 0.3]]))"
      ],
      "metadata": {
        "colab": {
          "base_uri": "https://localhost:8080/"
        },
        "id": "folixgoXhPBQ",
        "outputId": "2580ddb2-2f02-42a0-a13d-b4fc3f06fdfd"
      },
      "execution_count": null,
      "outputs": [
        {
          "output_type": "stream",
          "name": "stdout",
          "text": [
            "['Iris-setosa']\n"
          ]
        }
      ]
    },
    {
      "cell_type": "code",
      "source": [
        "#Predicción 2\n",
        "print(clf_tree_iris.predict([[6.7, 2.5, 5.5, 1.4]]))"
      ],
      "metadata": {
        "colab": {
          "base_uri": "https://localhost:8080/"
        },
        "id": "YpQgzgYshRku",
        "outputId": "ea3c54c7-97de-45a7-f94c-91f8f199a479"
      },
      "execution_count": null,
      "outputs": [
        {
          "output_type": "stream",
          "name": "stdout",
          "text": [
            "['Iris-virginica']\n"
          ]
        }
      ]
    },
    {
      "cell_type": "code",
      "source": [
        "#Predicción 3\n",
        "print(clf_tree_iris.predict([[7.7, 4.0, 1.1, 2.1]]))\n"
      ],
      "metadata": {
        "colab": {
          "base_uri": "https://localhost:8080/"
        },
        "id": "ogzpNVlBhShF",
        "outputId": "bb563039-ff1d-4ad4-9b25-f39043d55b41"
      },
      "execution_count": null,
      "outputs": [
        {
          "output_type": "stream",
          "name": "stdout",
          "text": [
            "['Iris-setosa']\n"
          ]
        }
      ]
    },
    {
      "cell_type": "code",
      "source": [
        "feature_names = ['SepalLengthCm',\t'SepalWidthCm',\t'PetalLengthCm',\t'PetalWidthCm']\n",
        "target_names = ['Iris-setosa', ' Iris-versicolor', 'Iris-virginica']\n",
        "\n",
        "#Tamaño de los árboles\n",
        "fig, axes = plt.subplots(nrows = 1,ncols = 1,figsize = (4,4), dpi=300)\n",
        "\n",
        "# Crear los datos\n",
        "tree.plot_tree(classifier, filled=True,\n",
        "                          feature_names=feature_names,\n",
        "                          class_names=target_names)\n",
        "\n",
        "fig.savefig('imagename.png')"
      ],
      "metadata": {
        "colab": {
          "base_uri": "https://localhost:8080/",
          "height": 983
        },
        "id": "GugA6MvGhagl",
        "outputId": "de93d257-615c-4efc-916b-5709a116a164"
      },
      "execution_count": null,
      "outputs": [
        {
          "output_type": "display_data",
          "data": {
            "text/plain": [
              "<Figure size 1200x1200 with 1 Axes>"
            ],
            "image/png": "[encoded data removed]"
          },
          "metadata": {
            "needs_background": "light"
          }
        }
      ]
    },
    {
      "cell_type": "markdown",
      "source": [
        "Matriz de confusión"
      ],
      "metadata": {
        "id": "WvHM4Rhkhzq9"
      }
    },
    {
      "cell_type": "code",
      "source": [
        "from sklearn.metrics import confusion_matrix\n",
        "confusion_matrix(y_test, test_pred_decision_tree)"
      ],
      "metadata": {
        "colab": {
          "base_uri": "https://localhost:8080/"
        },
        "id": "YGxpwjowh2KW",
        "outputId": "c9ef9421-b477-4d51-d83d-1ae6c789e52d"
      },
      "execution_count": null,
      "outputs": [
        {
          "output_type": "execute_result",
          "data": {
            "text/plain": [
              "array([[19,  0,  0],\n",
              "       [ 0, 13,  0],\n",
              "       [ 0,  0, 13]])"
            ]
          },
          "metadata": {},
          "execution_count": 14
        }
      ]
    },
    {
      "cell_type": "code",
      "source": [
        "from sklearn.metrics import accuracy_score\n",
        "accuracy_score(y_test, test_pred_decision_tree)"
      ],
      "metadata": {
        "colab": {
          "base_uri": "https://localhost:8080/"
        },
        "id": "Cy1Lrj36KPbt",
        "outputId": "75676a50-f6b1-4daa-fc2b-47e137c412c0"
      },
      "execution_count": null,
      "outputs": [
        {
          "output_type": "execute_result",
          "data": {
            "text/plain": [
              "1.0"
            ]
          },
          "metadata": {},
          "execution_count": 16
        }
      ]
    },
    {
      "cell_type": "markdown",
      "source": [
        "# Segunda implementación (debido a que sale un Accuracy perfecto en el dataset Iris)"
      ],
      "metadata": {
        "id": "WuoBPT8kW4mq"
      }
    },
    {
      "cell_type": "markdown",
      "source": [
        "Abrimos data set Wine"
      ],
      "metadata": {
        "id": "l2YTDU1Bt3Is"
      }
    },
    {
      "cell_type": "code",
      "source": [
        "import pandas as pd # importar libreria\n",
        "\n",
        "columns = [\"Classification\", \"Alcohol\",\"Malic acid\",\"Ash\",\"Alcalinity of ash\", \"Magnesium\", \"Total phenols\", \"Flavanoids\", \"Nonflavanoid phenols\"\n",
        " \t,\"Proanthocyanins\", \"Color intensity\", \"Hue\", \"OD280/OD315 of diluted wines\", \"Proline\"]\n",
        "\n",
        "df1 = pd.read_csv('/content/drive/MyDrive/Colab Notebooks/Copia de wine.data', names= columns).reset_index()\n",
        "df1 = df1.drop(['index'], axis=1) # abrir el archivo de datos con los nombres dados para las columnas\n",
        "df1.head() "
      ],
      "metadata": {
        "colab": {
          "base_uri": "https://localhost:8080/",
          "height": 285
        },
        "id": "r6eCv7Ua2r38",
        "outputId": "8cf8afd3-e752-4ad3-d518-5e82b3812451"
      },
      "execution_count": null,
      "outputs": [
        {
          "output_type": "execute_result",
          "data": {
            "text/plain": [
              "   Classification  Alcohol  Malic acid   Ash  Alcalinity of ash  Magnesium  \\\n",
              "0               1    14.23        1.71  2.43               15.6        127   \n",
              "1               1    13.20        1.78  2.14               11.2        100   \n",
              "2               1    13.16        2.36  2.67               18.6        101   \n",
              "3               1    14.37        1.95  2.50               16.8        113   \n",
              "4               1    13.24        2.59  2.87               21.0        118   \n",
              "\n",
              "   Total phenols  Flavanoids  Nonflavanoid phenols  Proanthocyanins  \\\n",
              "0           2.80        3.06                  0.28             2.29   \n",
              "1           2.65        2.76                  0.26             1.28   \n",
              "2           2.80        3.24                  0.30             2.81   \n",
              "3           3.85        3.49                  0.24             2.18   \n",
              "4           2.80        2.69                  0.39             1.82   \n",
              "\n",
              "   Color intensity   Hue  OD280/OD315 of diluted wines  Proline  \n",
              "0             5.64  1.04                          3.92     1065  \n",
              "1             4.38  1.05                          3.40     1050  \n",
              "2             5.68  1.03                          3.17     1185  \n",
              "3             7.80  0.86                          3.45     1480  \n",
              "4             4.32  1.04                          2.93      735  "
            ],
            "text/html": [
              "\n",
              "  <div id=\"df-484f870b-b0c8-4f7e-8210-a9921e82ad9a\">\n",
              "    <div class=\"colab-df-container\">\n",
              "      <div>\n",
              "<style scoped>\n",
              "    .dataframe tbody tr th:only-of-type {\n",
              "        vertical-align: middle;\n",
              "    }\n",
              "\n",
              "    .dataframe tbody tr th {\n",
              "        vertical-align: top;\n",
              "    }\n",
              "\n",
              "    .dataframe thead th {\n",
              "        text-align: right;\n",
              "    }\n",
              "</style>\n",
              "<table border=\"1\" class=\"dataframe\">\n",
              "  <thead>\n",
              "    <tr style=\"text-align: right;\">\n",
              "      <th></th>\n",
              "      <th>Classification</th>\n",
              "      <th>Alcohol</th>\n",
              "      <th>Malic acid</th>\n",
              "      <th>Ash</th>\n",
              "      <th>Alcalinity of ash</th>\n",
              "      <th>Magnesium</th>\n",
              "      <th>Total phenols</th>\n",
              "      <th>Flavanoids</th>\n",
              "      <th>Nonflavanoid phenols</th>\n",
              "      <th>Proanthocyanins</th>\n",
              "      <th>Color intensity</th>\n",
              "      <th>Hue</th>\n",
              "      <th>OD280/OD315 of diluted wines</th>\n",
              "      <th>Proline</th>\n",
              "    </tr>\n",
              "  </thead>\n",
              "  <tbody>\n",
              "    <tr>\n",
              "      <th>0</th>\n",
              "      <td>1</td>\n",
              "      <td>14.23</td>\n",
              "      <td>1.71</td>\n",
              "      <td>2.43</td>\n",
              "      <td>15.6</td>\n",
              "      <td>127</td>\n",
              "      <td>2.80</td>\n",
              "      <td>3.06</td>\n",
              "      <td>0.28</td>\n",
              "      <td>2.29</td>\n",
              "      <td>5.64</td>\n",
              "      <td>1.04</td>\n",
              "      <td>3.92</td>\n",
              "      <td>1065</td>\n",
              "    </tr>\n",
              "    <tr>\n",
              "      <th>1</th>\n",
              "      <td>1</td>\n",
              "      <td>13.20</td>\n",
              "      <td>1.78</td>\n",
              "      <td>2.14</td>\n",
              "      <td>11.2</td>\n",
              "      <td>100</td>\n",
              "      <td>2.65</td>\n",
              "      <td>2.76</td>\n",
              "      <td>0.26</td>\n",
              "      <td>1.28</td>\n",
              "      <td>4.38</td>\n",
              "      <td>1.05</td>\n",
              "      <td>3.40</td>\n",
              "      <td>1050</td>\n",
              "    </tr>\n",
              "    <tr>\n",
              "      <th>2</th>\n",
              "      <td>1</td>\n",
              "      <td>13.16</td>\n",
              "      <td>2.36</td>\n",
              "      <td>2.67</td>\n",
              "      <td>18.6</td>\n",
              "      <td>101</td>\n",
              "      <td>2.80</td>\n",
              "      <td>3.24</td>\n",
              "      <td>0.30</td>\n",
              "      <td>2.81</td>\n",
              "      <td>5.68</td>\n",
              "      <td>1.03</td>\n",
              "      <td>3.17</td>\n",
              "      <td>1185</td>\n",
              "    </tr>\n",
              "    <tr>\n",
              "      <th>3</th>\n",
              "      <td>1</td>\n",
              "      <td>14.37</td>\n",
              "      <td>1.95</td>\n",
              "      <td>2.50</td>\n",
              "      <td>16.8</td>\n",
              "      <td>113</td>\n",
              "      <td>3.85</td>\n",
              "      <td>3.49</td>\n",
              "      <td>0.24</td>\n",
              "      <td>2.18</td>\n",
              "      <td>7.80</td>\n",
              "      <td>0.86</td>\n",
              "      <td>3.45</td>\n",
              "      <td>1480</td>\n",
              "    </tr>\n",
              "    <tr>\n",
              "      <th>4</th>\n",
              "      <td>1</td>\n",
              "      <td>13.24</td>\n",
              "      <td>2.59</td>\n",
              "      <td>2.87</td>\n",
              "      <td>21.0</td>\n",
              "      <td>118</td>\n",
              "      <td>2.80</td>\n",
              "      <td>2.69</td>\n",
              "      <td>0.39</td>\n",
              "      <td>1.82</td>\n",
              "      <td>4.32</td>\n",
              "      <td>1.04</td>\n",
              "      <td>2.93</td>\n",
              "      <td>735</td>\n",
              "    </tr>\n",
              "  </tbody>\n",
              "</table>\n",
              "</div>\n",
              "      <button class=\"colab-df-convert\" onclick=\"convertToInteractive('df-484f870b-b0c8-4f7e-8210-a9921e82ad9a')\"\n",
              "              title=\"Convert this dataframe to an interactive table.\"\n",
              "              style=\"display:none;\">\n",
              "        \n",
              "  <svg xmlns=\"http://www.w3.org/2000/svg\" height=\"24px\"viewBox=\"0 0 24 24\"\n",
              "       width=\"24px\">\n",
              "    <path d=\"M0 0h24v24H0V0z\" fill=\"none\"/>\n",
              "    <path d=\"M18.56 5.44l.94 2.06.94-2.06 2.06-.94-2.06-.94-.94-2.06-.94 2.06-2.06.94zm-11 1L8.5 8.5l.94-2.06 2.06-.94-2.06-.94L8.5 2.5l-.94 2.06-2.06.94zm10 10l.94 2.06.94-2.06 2.06-.94-2.06-.94-.94-2.06-.94 2.06-2.06.94z\"/><path d=\"M17.41 7.96l-1.37-1.37c-.4-.4-.92-.59-1.43-.59-.52 0-1.04.2-1.43.59L10.3 9.45l-7.72 7.72c-.78.78-.78 2.05 0 2.83L4 21.41c.39.39.9.59 1.41.59.51 0 1.02-.2 1.41-.59l7.78-7.78 2.81-2.81c.8-.78.8-2.07 0-2.86zM5.41 20L4 18.59l7.72-7.72 1.47 1.35L5.41 20z\"/>\n",
              "  </svg>\n",
              "      </button>\n",
              "      \n",
              "  <style>\n",
              "    .colab-df-container {\n",
              "      display:flex;\n",
              "      flex-wrap:wrap;\n",
              "      gap: 12px;\n",
              "    }\n",
              "\n",
              "    .colab-df-convert {\n",
              "      background-color: #E8F0FE;\n",
              "      border: none;\n",
              "      border-radius: 50%;\n",
              "      cursor: pointer;\n",
              "      display: none;\n",
              "      fill: #1967D2;\n",
              "      height: 32px;\n",
              "      padding: 0 0 0 0;\n",
              "      width: 32px;\n",
              "    }\n",
              "\n",
              "    .colab-df-convert:hover {\n",
              "      background-color: #E2EBFA;\n",
              "      box-shadow: 0px 1px 2px rgba(60, 64, 67, 0.3), 0px 1px 3px 1px rgba(60, 64, 67, 0.15);\n",
              "      fill: #174EA6;\n",
              "    }\n",
              "\n",
              "    [theme=dark] .colab-df-convert {\n",
              "      background-color: #3B4455;\n",
              "      fill: #D2E3FC;\n",
              "    }\n",
              "\n",
              "    [theme=dark] .colab-df-convert:hover {\n",
              "      background-color: #434B5C;\n",
              "      box-shadow: 0px 1px 3px 1px rgba(0, 0, 0, 0.15);\n",
              "      filter: drop-shadow(0px 1px 2px rgba(0, 0, 0, 0.3));\n",
              "      fill: #FFFFFF;\n",
              "    }\n",
              "  </style>\n",
              "\n",
              "      <script>\n",
              "        const buttonEl =\n",
              "          document.querySelector('#df-484f870b-b0c8-4f7e-8210-a9921e82ad9a button.colab-df-convert');\n",
              "        buttonEl.style.display =\n",
              "          google.colab.kernel.accessAllowed ? 'block' : 'none';\n",
              "\n",
              "        async function convertToInteractive(key) {\n",
              "          const element = document.querySelector('#df-484f870b-b0c8-4f7e-8210-a9921e82ad9a');\n",
              "          const dataTable =\n",
              "            await google.colab.kernel.invokeFunction('convertToInteractive',\n",
              "                                                     [key], {});\n",
              "          if (!dataTable) return;\n",
              "\n",
              "          const docLinkHtml = 'Like what you see? Visit the ' +\n",
              "            '<a target=\"_blank\" href=https://colab.research.google.com/notebooks/data_table.ipynb>data table notebook</a>'\n",
              "            + ' to learn more about interactive tables.';\n",
              "          element.innerHTML = '';\n",
              "          dataTable['output_type'] = 'display_data';\n",
              "          await google.colab.output.renderOutput(dataTable, element);\n",
              "          const docLink = document.createElement('div');\n",
              "          docLink.innerHTML = docLinkHtml;\n",
              "          element.appendChild(docLink);\n",
              "        }\n",
              "      </script>\n",
              "    </div>\n",
              "  </div>\n",
              "  "
            ]
          },
          "metadata": {},
          "execution_count": 3
        }
      ]
    },
    {
      "cell_type": "markdown",
      "source": [
        "Verificamos columna de clasificación"
      ],
      "metadata": {
        "id": "aMRn_NLvuCSF"
      }
    },
    {
      "cell_type": "code",
      "source": [
        "df1['Classification']"
      ],
      "metadata": {
        "colab": {
          "base_uri": "https://localhost:8080/"
        },
        "id": "4uXCDOlXVXAO",
        "outputId": "be2f20c9-fd1d-4692-d12d-a5e2b229adb8"
      },
      "execution_count": null,
      "outputs": [
        {
          "output_type": "execute_result",
          "data": {
            "text/plain": [
              "0      1\n",
              "1      1\n",
              "2      1\n",
              "3      1\n",
              "4      1\n",
              "      ..\n",
              "173    3\n",
              "174    3\n",
              "175    3\n",
              "176    3\n",
              "177    3\n",
              "Name: Classification, Length: 178, dtype: int64"
            ]
          },
          "metadata": {},
          "execution_count": 4
        }
      ]
    },
    {
      "cell_type": "markdown",
      "source": [
        "Obtenemos valores únicos de la columna de clasificación"
      ],
      "metadata": {
        "id": "gUr-G3ltuG_E"
      }
    },
    {
      "cell_type": "code",
      "source": [
        "df1.Classification.unique()\n"
      ],
      "metadata": {
        "colab": {
          "base_uri": "https://localhost:8080/"
        },
        "id": "jRqZ86aIWXF5",
        "outputId": "049ead02-880e-47d5-9578-ef41fde99b75"
      },
      "execution_count": null,
      "outputs": [
        {
          "output_type": "execute_result",
          "data": {
            "text/plain": [
              "array([1, 2, 3])"
            ]
          },
          "metadata": {},
          "execution_count": 5
        }
      ]
    },
    {
      "cell_type": "markdown",
      "source": [
        "Para una interpretación más sencilla se reemplazaron las clasificaciones numéricas a categóricas"
      ],
      "metadata": {
        "id": "DflP2WGSuK0Y"
      }
    },
    {
      "cell_type": "code",
      "source": [
        "df1.Classification.replace([0, 1, 3], ['Cultivar 1', 'Cultivar 2', 'Cultivar 3'], inplace=True)\n",
        "df1.Classification"
      ],
      "metadata": {
        "colab": {
          "base_uri": "https://localhost:8080/"
        },
        "id": "su72MQ5_VBZS",
        "outputId": "91cd4202-a555-4d48-ef68-73f966aaef21"
      },
      "execution_count": null,
      "outputs": [
        {
          "output_type": "execute_result",
          "data": {
            "text/plain": [
              "0      Cultivar 2\n",
              "1      Cultivar 2\n",
              "2      Cultivar 2\n",
              "3      Cultivar 2\n",
              "4      Cultivar 2\n",
              "          ...    \n",
              "173    Cultivar 3\n",
              "174    Cultivar 3\n",
              "175    Cultivar 3\n",
              "176    Cultivar 3\n",
              "177    Cultivar 3\n",
              "Name: Classification, Length: 178, dtype: object"
            ]
          },
          "metadata": {},
          "execution_count": 9
        }
      ]
    },
    {
      "cell_type": "code",
      "source": [
        "#df1['Classification'].astype(str)\n"
      ],
      "metadata": {
        "id": "OZfTnku0Tant"
      },
      "execution_count": null,
      "outputs": []
    },
    {
      "cell_type": "markdown",
      "source": [
        "Separamos las variables de la variable target"
      ],
      "metadata": {
        "id": "qZkZxSGpuWV9"
      }
    },
    {
      "cell_type": "code",
      "source": [
        "df_x = df1.drop([\"Classification\"], axis=1)\n",
        "df_y = df1[\"Classification\"]\n",
        "\n",
        "\n",
        "# Print df_x first 5\n",
        "df_x"
      ],
      "metadata": {
        "colab": {
          "base_uri": "https://localhost:8080/",
          "height": 485
        },
        "id": "qWHrxxZQFDjT",
        "outputId": "d8e91b28-4ca4-4295-841e-0791f0c6f91b"
      },
      "execution_count": null,
      "outputs": [
        {
          "output_type": "execute_result",
          "data": {
            "text/plain": [
              "     Alcohol  Malic acid   Ash  Alcalinity of ash  Magnesium  Total phenols  \\\n",
              "0      14.23        1.71  2.43               15.6        127           2.80   \n",
              "1      13.20        1.78  2.14               11.2        100           2.65   \n",
              "2      13.16        2.36  2.67               18.6        101           2.80   \n",
              "3      14.37        1.95  2.50               16.8        113           3.85   \n",
              "4      13.24        2.59  2.87               21.0        118           2.80   \n",
              "..       ...         ...   ...                ...        ...            ...   \n",
              "173    13.71        5.65  2.45               20.5         95           1.68   \n",
              "174    13.40        3.91  2.48               23.0        102           1.80   \n",
              "175    13.27        4.28  2.26               20.0        120           1.59   \n",
              "176    13.17        2.59  2.37               20.0        120           1.65   \n",
              "177    14.13        4.10  2.74               24.5         96           2.05   \n",
              "\n",
              "     Flavanoids  Nonflavanoid phenols  Proanthocyanins  Color intensity   Hue  \\\n",
              "0          3.06                  0.28             2.29             5.64  1.04   \n",
              "1          2.76                  0.26             1.28             4.38  1.05   \n",
              "2          3.24                  0.30             2.81             5.68  1.03   \n",
              "3          3.49                  0.24             2.18             7.80  0.86   \n",
              "4          2.69                  0.39             1.82             4.32  1.04   \n",
              "..          ...                   ...              ...              ...   ...   \n",
              "173        0.61                  0.52             1.06             7.70  0.64   \n",
              "174        0.75                  0.43             1.41             7.30  0.70   \n",
              "175        0.69                  0.43             1.35            10.20  0.59   \n",
              "176        0.68                  0.53             1.46             9.30  0.60   \n",
              "177        0.76                  0.56             1.35             9.20  0.61   \n",
              "\n",
              "     OD280/OD315 of diluted wines  Proline  \n",
              "0                            3.92     1065  \n",
              "1                            3.40     1050  \n",
              "2                            3.17     1185  \n",
              "3                            3.45     1480  \n",
              "4                            2.93      735  \n",
              "..                            ...      ...  \n",
              "173                          1.74      740  \n",
              "174                          1.56      750  \n",
              "175                          1.56      835  \n",
              "176                          1.62      840  \n",
              "177                          1.60      560  \n",
              "\n",
              "[178 rows x 13 columns]"
            ],
            "text/html": [
              "\n",
              "  <div id=\"df-f7d39ce4-8817-411a-b538-a90f3011b1fa\">\n",
              "    <div class=\"colab-df-container\">\n",
              "      <div>\n",
              "<style scoped>\n",
              "    .dataframe tbody tr th:only-of-type {\n",
              "        vertical-align: middle;\n",
              "    }\n",
              "\n",
              "    .dataframe tbody tr th {\n",
              "        vertical-align: top;\n",
              "    }\n",
              "\n",
              "    .dataframe thead th {\n",
              "        text-align: right;\n",
              "    }\n",
              "</style>\n",
              "<table border=\"1\" class=\"dataframe\">\n",
              "  <thead>\n",
              "    <tr style=\"text-align: right;\">\n",
              "      <th></th>\n",
              "      <th>Alcohol</th>\n",
              "      <th>Malic acid</th>\n",
              "      <th>Ash</th>\n",
              "      <th>Alcalinity of ash</th>\n",
              "      <th>Magnesium</th>\n",
              "      <th>Total phenols</th>\n",
              "      <th>Flavanoids</th>\n",
              "      <th>Nonflavanoid phenols</th>\n",
              "      <th>Proanthocyanins</th>\n",
              "      <th>Color intensity</th>\n",
              "      <th>Hue</th>\n",
              "      <th>OD280/OD315 of diluted wines</th>\n",
              "      <th>Proline</th>\n",
              "    </tr>\n",
              "  </thead>\n",
              "  <tbody>\n",
              "    <tr>\n",
              "      <th>0</th>\n",
              "      <td>14.23</td>\n",
              "      <td>1.71</td>\n",
              "      <td>2.43</td>\n",
              "      <td>15.6</td>\n",
              "      <td>127</td>\n",
              "      <td>2.80</td>\n",
              "      <td>3.06</td>\n",
              "      <td>0.28</td>\n",
              "      <td>2.29</td>\n",
              "      <td>5.64</td>\n",
              "      <td>1.04</td>\n",
              "      <td>3.92</td>\n",
              "      <td>1065</td>\n",
              "    </tr>\n",
              "    <tr>\n",
              "      <th>1</th>\n",
              "      <td>13.20</td>\n",
              "      <td>1.78</td>\n",
              "      <td>2.14</td>\n",
              "      <td>11.2</td>\n",
              "      <td>100</td>\n",
              "      <td>2.65</td>\n",
              "      <td>2.76</td>\n",
              "      <td>0.26</td>\n",
              "      <td>1.28</td>\n",
              "      <td>4.38</td>\n",
              "      <td>1.05</td>\n",
              "      <td>3.40</td>\n",
              "      <td>1050</td>\n",
              "    </tr>\n",
              "    <tr>\n",
              "      <th>2</th>\n",
              "      <td>13.16</td>\n",
              "      <td>2.36</td>\n",
              "      <td>2.67</td>\n",
              "      <td>18.6</td>\n",
              "      <td>101</td>\n",
              "      <td>2.80</td>\n",
              "      <td>3.24</td>\n",
              "      <td>0.30</td>\n",
              "      <td>2.81</td>\n",
              "      <td>5.68</td>\n",
              "      <td>1.03</td>\n",
              "      <td>3.17</td>\n",
              "      <td>1185</td>\n",
              "    </tr>\n",
              "    <tr>\n",
              "      <th>3</th>\n",
              "      <td>14.37</td>\n",
              "      <td>1.95</td>\n",
              "      <td>2.50</td>\n",
              "      <td>16.8</td>\n",
              "      <td>113</td>\n",
              "      <td>3.85</td>\n",
              "      <td>3.49</td>\n",
              "      <td>0.24</td>\n",
              "      <td>2.18</td>\n",
              "      <td>7.80</td>\n",
              "      <td>0.86</td>\n",
              "      <td>3.45</td>\n",
              "      <td>1480</td>\n",
              "    </tr>\n",
              "    <tr>\n",
              "      <th>4</th>\n",
              "      <td>13.24</td>\n",
              "      <td>2.59</td>\n",
              "      <td>2.87</td>\n",
              "      <td>21.0</td>\n",
              "      <td>118</td>\n",
              "      <td>2.80</td>\n",
              "      <td>2.69</td>\n",
              "      <td>0.39</td>\n",
              "      <td>1.82</td>\n",
              "      <td>4.32</td>\n",
              "      <td>1.04</td>\n",
              "      <td>2.93</td>\n",
              "      <td>735</td>\n",
              "    </tr>\n",
              "    <tr>\n",
              "      <th>...</th>\n",
              "      <td>...</td>\n",
              "      <td>...</td>\n",
              "      <td>...</td>\n",
              "      <td>...</td>\n",
              "      <td>...</td>\n",
              "      <td>...</td>\n",
              "      <td>...</td>\n",
              "      <td>...</td>\n",
              "      <td>...</td>\n",
              "      <td>...</td>\n",
              "      <td>...</td>\n",
              "      <td>...</td>\n",
              "      <td>...</td>\n",
              "    </tr>\n",
              "    <tr>\n",
              "      <th>173</th>\n",
              "      <td>13.71</td>\n",
              "      <td>5.65</td>\n",
              "      <td>2.45</td>\n",
              "      <td>20.5</td>\n",
              "      <td>95</td>\n",
              "      <td>1.68</td>\n",
              "      <td>0.61</td>\n",
              "      <td>0.52</td>\n",
              "      <td>1.06</td>\n",
              "      <td>7.70</td>\n",
              "      <td>0.64</td>\n",
              "      <td>1.74</td>\n",
              "      <td>740</td>\n",
              "    </tr>\n",
              "    <tr>\n",
              "      <th>174</th>\n",
              "      <td>13.40</td>\n",
              "      <td>3.91</td>\n",
              "      <td>2.48</td>\n",
              "      <td>23.0</td>\n",
              "      <td>102</td>\n",
              "      <td>1.80</td>\n",
              "      <td>0.75</td>\n",
              "      <td>0.43</td>\n",
              "      <td>1.41</td>\n",
              "      <td>7.30</td>\n",
              "      <td>0.70</td>\n",
              "      <td>1.56</td>\n",
              "      <td>750</td>\n",
              "    </tr>\n",
              "    <tr>\n",
              "      <th>175</th>\n",
              "      <td>13.27</td>\n",
              "      <td>4.28</td>\n",
              "      <td>2.26</td>\n",
              "      <td>20.0</td>\n",
              "      <td>120</td>\n",
              "      <td>1.59</td>\n",
              "      <td>0.69</td>\n",
              "      <td>0.43</td>\n",
              "      <td>1.35</td>\n",
              "      <td>10.20</td>\n",
              "      <td>0.59</td>\n",
              "      <td>1.56</td>\n",
              "      <td>835</td>\n",
              "    </tr>\n",
              "    <tr>\n",
              "      <th>176</th>\n",
              "      <td>13.17</td>\n",
              "      <td>2.59</td>\n",
              "      <td>2.37</td>\n",
              "      <td>20.0</td>\n",
              "      <td>120</td>\n",
              "      <td>1.65</td>\n",
              "      <td>0.68</td>\n",
              "      <td>0.53</td>\n",
              "      <td>1.46</td>\n",
              "      <td>9.30</td>\n",
              "      <td>0.60</td>\n",
              "      <td>1.62</td>\n",
              "      <td>840</td>\n",
              "    </tr>\n",
              "    <tr>\n",
              "      <th>177</th>\n",
              "      <td>14.13</td>\n",
              "      <td>4.10</td>\n",
              "      <td>2.74</td>\n",
              "      <td>24.5</td>\n",
              "      <td>96</td>\n",
              "      <td>2.05</td>\n",
              "      <td>0.76</td>\n",
              "      <td>0.56</td>\n",
              "      <td>1.35</td>\n",
              "      <td>9.20</td>\n",
              "      <td>0.61</td>\n",
              "      <td>1.60</td>\n",
              "      <td>560</td>\n",
              "    </tr>\n",
              "  </tbody>\n",
              "</table>\n",
              "<p>178 rows × 13 columns</p>\n",
              "</div>\n",
              "      <button class=\"colab-df-convert\" onclick=\"convertToInteractive('df-f7d39ce4-8817-411a-b538-a90f3011b1fa')\"\n",
              "              title=\"Convert this dataframe to an interactive table.\"\n",
              "              style=\"display:none;\">\n",
              "        \n",
              "  <svg xmlns=\"http://www.w3.org/2000/svg\" height=\"24px\"viewBox=\"0 0 24 24\"\n",
              "       width=\"24px\">\n",
              "    <path d=\"M0 0h24v24H0V0z\" fill=\"none\"/>\n",
              "    <path d=\"M18.56 5.44l.94 2.06.94-2.06 2.06-.94-2.06-.94-.94-2.06-.94 2.06-2.06.94zm-11 1L8.5 8.5l.94-2.06 2.06-.94-2.06-.94L8.5 2.5l-.94 2.06-2.06.94zm10 10l.94 2.06.94-2.06 2.06-.94-2.06-.94-.94-2.06-.94 2.06-2.06.94z\"/><path d=\"M17.41 7.96l-1.37-1.37c-.4-.4-.92-.59-1.43-.59-.52 0-1.04.2-1.43.59L10.3 9.45l-7.72 7.72c-.78.78-.78 2.05 0 2.83L4 21.41c.39.39.9.59 1.41.59.51 0 1.02-.2 1.41-.59l7.78-7.78 2.81-2.81c.8-.78.8-2.07 0-2.86zM5.41 20L4 18.59l7.72-7.72 1.47 1.35L5.41 20z\"/>\n",
              "  </svg>\n",
              "      </button>\n",
              "      \n",
              "  <style>\n",
              "    .colab-df-container {\n",
              "      display:flex;\n",
              "      flex-wrap:wrap;\n",
              "      gap: 12px;\n",
              "    }\n",
              "\n",
              "    .colab-df-convert {\n",
              "      background-color: #E8F0FE;\n",
              "      border: none;\n",
              "      border-radius: 50%;\n",
              "      cursor: pointer;\n",
              "      display: none;\n",
              "      fill: #1967D2;\n",
              "      height: 32px;\n",
              "      padding: 0 0 0 0;\n",
              "      width: 32px;\n",
              "    }\n",
              "\n",
              "    .colab-df-convert:hover {\n",
              "      background-color: #E2EBFA;\n",
              "      box-shadow: 0px 1px 2px rgba(60, 64, 67, 0.3), 0px 1px 3px 1px rgba(60, 64, 67, 0.15);\n",
              "      fill: #174EA6;\n",
              "    }\n",
              "\n",
              "    [theme=dark] .colab-df-convert {\n",
              "      background-color: #3B4455;\n",
              "      fill: #D2E3FC;\n",
              "    }\n",
              "\n",
              "    [theme=dark] .colab-df-convert:hover {\n",
              "      background-color: #434B5C;\n",
              "      box-shadow: 0px 1px 3px 1px rgba(0, 0, 0, 0.15);\n",
              "      filter: drop-shadow(0px 1px 2px rgba(0, 0, 0, 0.3));\n",
              "      fill: #FFFFFF;\n",
              "    }\n",
              "  </style>\n",
              "\n",
              "      <script>\n",
              "        const buttonEl =\n",
              "          document.querySelector('#df-f7d39ce4-8817-411a-b538-a90f3011b1fa button.colab-df-convert');\n",
              "        buttonEl.style.display =\n",
              "          google.colab.kernel.accessAllowed ? 'block' : 'none';\n",
              "\n",
              "        async function convertToInteractive(key) {\n",
              "          const element = document.querySelector('#df-f7d39ce4-8817-411a-b538-a90f3011b1fa');\n",
              "          const dataTable =\n",
              "            await google.colab.kernel.invokeFunction('convertToInteractive',\n",
              "                                                     [key], {});\n",
              "          if (!dataTable) return;\n",
              "\n",
              "          const docLinkHtml = 'Like what you see? Visit the ' +\n",
              "            '<a target=\"_blank\" href=https://colab.research.google.com/notebooks/data_table.ipynb>data table notebook</a>'\n",
              "            + ' to learn more about interactive tables.';\n",
              "          element.innerHTML = '';\n",
              "          dataTable['output_type'] = 'display_data';\n",
              "          await google.colab.output.renderOutput(dataTable, element);\n",
              "          const docLink = document.createElement('div');\n",
              "          docLink.innerHTML = docLinkHtml;\n",
              "          element.appendChild(docLink);\n",
              "        }\n",
              "      </script>\n",
              "    </div>\n",
              "  </div>\n",
              "  "
            ]
          },
          "metadata": {},
          "execution_count": 10
        }
      ]
    },
    {
      "cell_type": "markdown",
      "source": [
        "Separamos entre training y test set"
      ],
      "metadata": {
        "id": "b3DMp4iaujng"
      }
    },
    {
      "cell_type": "code",
      "source": [
        "from sklearn.model_selection import train_test_split\n",
        "\n",
        "\n",
        "X_train, X_test, y_train, y_test = train_test_split(df_x, df_y, test_size=0.2, random_state=42)"
      ],
      "metadata": {
        "id": "NUdufWJKGdK6"
      },
      "execution_count": null,
      "outputs": []
    },
    {
      "cell_type": "markdown",
      "source": [
        "Construimos el clasificador"
      ],
      "metadata": {
        "id": "GJM71BL1uwuz"
      }
    },
    {
      "cell_type": "code",
      "source": [
        "classifier = tree.DecisionTreeClassifier(ccp_alpha=0.0, class_weight=None, criterion='gini',\n",
        "                       max_depth=None, max_features=None, max_leaf_nodes=None,\n",
        "                       min_impurity_decrease=0.0,\n",
        "                       min_samples_leaf=1, min_samples_split=2,\n",
        "                       min_weight_fraction_leaf=0.0,\n",
        "                       random_state=None, splitter='best')\n",
        "\n",
        "# Train Decision Tree Classifer\n",
        "classifier = classifier.fit(X_train, y_train)"
      ],
      "metadata": {
        "id": "pJ2QiEFZGsd5"
      },
      "execution_count": null,
      "outputs": []
    },
    {
      "cell_type": "markdown",
      "source": [
        "Generar predicción"
      ],
      "metadata": {
        "id": "ccHb0uqlu5aY"
      }
    },
    {
      "cell_type": "code",
      "source": [
        "test_pred_decision_tree = classifier.predict(X_test)\n"
      ],
      "metadata": {
        "id": "SzXBsJiXG0pb"
      },
      "execution_count": null,
      "outputs": []
    },
    {
      "cell_type": "markdown",
      "source": [
        "Obtenemos columna"
      ],
      "metadata": {
        "id": "2Xwfex1su-sv"
      }
    },
    {
      "cell_type": "code",
      "source": [
        "df1.columns"
      ],
      "metadata": {
        "colab": {
          "base_uri": "https://localhost:8080/"
        },
        "id": "uS8S9Z0TYw3-",
        "outputId": "3a93efb9-8df8-4220-b601-e58f850c43f6"
      },
      "execution_count": null,
      "outputs": [
        {
          "output_type": "execute_result",
          "data": {
            "text/plain": [
              "Index(['Classification', 'Alcohol', 'Malic acid', 'Ash', 'Alcalinity of ash',\n",
              "       'Magnesium', 'Total phenols', 'Flavanoids', 'Nonflavanoid phenols',\n",
              "       'Proanthocyanins', 'Color intensity', 'Hue',\n",
              "       'OD280/OD315 of diluted wines', 'Proline'],\n",
              "      dtype='object')"
            ]
          },
          "metadata": {},
          "execution_count": 18
        }
      ]
    },
    {
      "cell_type": "markdown",
      "source": [
        "Graficamos el árbol de decisión"
      ],
      "metadata": {
        "id": "3khe5tFcvHhD"
      }
    },
    {
      "cell_type": "code",
      "source": [
        "feature_names = ['Classification', 'Alcohol', 'Malic acid', 'Ash', 'Alcalinity of ash',\n",
        "       'Magnesium', 'Total phenols', 'Flavanoids', 'Nonflavanoid phenols',\n",
        "       'Proanthocyanins', 'Color intensity', 'Hue',\n",
        "       'OD280/OD315 of diluted wines', 'Proline']\n",
        "target_names = ['Cultivar 1', 'Cultivar 2', 'Cultivar 3']\n",
        "\n",
        "#Tamaño de los árboles\n",
        "fig, axes = plt.subplots(nrows = 1,ncols = 1,figsize = (4,4), dpi=300)\n",
        "\n",
        "# Crear los datos\n",
        "tree.plot_tree(classifier, filled=True,\n",
        "                          feature_names=feature_names,\n",
        "                          class_names=target_names)\n",
        "\n",
        "fig.savefig('imagename.png')"
      ],
      "metadata": {
        "colab": {
          "base_uri": "https://localhost:8080/",
          "height": 983
        },
        "id": "25n39MuQG42x",
        "outputId": "fbdcabfe-bb2d-400c-93dc-3e5fbbe8f28c"
      },
      "execution_count": null,
      "outputs": [
        {
          "output_type": "display_data",
          "data": {
            "text/plain": [
              "<Figure size 1200x1200 with 1 Axes>"
            ],
            "image/png": "[encoded data removed]"
          },
          "metadata": {
            "needs_background": "light"
          }
        }
      ]
    },
    {
      "cell_type": "markdown",
      "source": [
        "Comparamos el valor actual con el predicho por el modelo"
      ],
      "metadata": {
        "id": "iLiCAnmWvLDr"
      }
    },
    {
      "cell_type": "code",
      "source": [
        "test_pred_decision_tree_list = test_pred_decision_tree.tolist()"
      ],
      "metadata": {
        "id": "2Rs5z3khZgu-"
      },
      "execution_count": null,
      "outputs": []
    },
    {
      "cell_type": "code",
      "source": [
        "for i in range(len(test_pred_decision_tree)):\n",
        "  print('Real: ',test_pred_decision_tree_list[i],' | Pred: ', test_pred_decision_tree_list[i])"
      ],
      "metadata": {
        "colab": {
          "base_uri": "https://localhost:8080/"
        },
        "id": "oQwJui9OZiJm",
        "outputId": "d1ede2b0-4458-43f7-b8eb-3e59e245b08e"
      },
      "execution_count": null,
      "outputs": [
        {
          "output_type": "stream",
          "name": "stdout",
          "text": [
            "Real:  Cultivar 2  | Pred:  Cultivar 2\n",
            "Real:  Cultivar 2  | Pred:  Cultivar 2\n",
            "Real:  Cultivar 3  | Pred:  Cultivar 3\n",
            "Real:  Cultivar 2  | Pred:  Cultivar 2\n",
            "Real:  Cultivar 3  | Pred:  Cultivar 3\n",
            "Real:  Cultivar 2  | Pred:  Cultivar 2\n",
            "Real:  Cultivar 3  | Pred:  Cultivar 3\n",
            "Real:  Cultivar 3  | Pred:  Cultivar 3\n",
            "Real:  Cultivar 2  | Pred:  Cultivar 2\n",
            "Real:  Cultivar 3  | Pred:  Cultivar 3\n",
            "Real:  Cultivar 2  | Pred:  Cultivar 2\n",
            "Real:  Cultivar 3  | Pred:  Cultivar 3\n",
            "Real:  Cultivar 2  | Pred:  Cultivar 2\n",
            "Real:  Cultivar 3  | Pred:  Cultivar 3\n",
            "Real:  Cultivar 2  | Pred:  Cultivar 2\n",
            "Real:  Cultivar 3  | Pred:  Cultivar 3\n",
            "Real:  Cultivar 3  | Pred:  Cultivar 3\n",
            "Real:  Cultivar 3  | Pred:  Cultivar 3\n",
            "Real:  Cultivar 2  | Pred:  Cultivar 2\n",
            "Real:  Cultivar 3  | Pred:  Cultivar 3\n",
            "Real:  Cultivar 2  | Pred:  Cultivar 2\n",
            "Real:  Cultivar 3  | Pred:  Cultivar 3\n",
            "Real:  Cultivar 3  | Pred:  Cultivar 3\n",
            "Real:  Cultivar 2  | Pred:  Cultivar 2\n",
            "Real:  Cultivar 3  | Pred:  Cultivar 3\n",
            "Real:  Cultivar 3  | Pred:  Cultivar 3\n",
            "Real:  Cultivar 3  | Pred:  Cultivar 3\n",
            "Real:  Cultivar 2  | Pred:  Cultivar 2\n",
            "Real:  Cultivar 3  | Pred:  Cultivar 3\n",
            "Real:  Cultivar 2  | Pred:  Cultivar 2\n",
            "Real:  Cultivar 2  | Pred:  Cultivar 2\n",
            "Real:  Cultivar 3  | Pred:  Cultivar 3\n",
            "Real:  Cultivar 3  | Pred:  Cultivar 3\n",
            "Real:  Cultivar 2  | Pred:  Cultivar 2\n",
            "Real:  Cultivar 2  | Pred:  Cultivar 2\n",
            "Real:  Cultivar 2  | Pred:  Cultivar 2\n"
          ]
        }
      ]
    },
    {
      "cell_type": "markdown",
      "source": [
        "Obtenemos matriz de confusión"
      ],
      "metadata": {
        "id": "hbIUBOYFvQYU"
      }
    },
    {
      "cell_type": "markdown",
      "source": [
        "![matriz_confusion.jpg](data:image/jpeg;base64,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)"
      ],
      "metadata": {
        "id": "_69qM2zPvqAC"
      }
    },
    {
      "cell_type": "code",
      "source": [
        "cf_matrix = confusion_matrix(y_test, test_pred_decision_tree)\n",
        "cf_matrix"
      ],
      "metadata": {
        "colab": {
          "base_uri": "https://localhost:8080/"
        },
        "id": "Nlh64xSKZoa8",
        "outputId": "ec5a6e6f-f45a-4282-b8ed-6ea0c21973b8"
      },
      "execution_count": null,
      "outputs": [
        {
          "output_type": "execute_result",
          "data": {
            "text/plain": [
              "array([[14,  0],\n",
              "       [ 3, 19]])"
            ]
          },
          "metadata": {},
          "execution_count": 29
        }
      ]
    },
    {
      "cell_type": "markdown",
      "source": [
        "Métrica Accuracy"
      ],
      "metadata": {
        "id": "aDBXLrMYvT91"
      }
    },
    {
      "cell_type": "code",
      "source": [
        "from sklearn.metrics import accuracy_score\n",
        "accuracy_score(y_test, test_pred_decision_tree)"
      ],
      "metadata": {
        "colab": {
          "base_uri": "https://localhost:8080/"
        },
        "id": "osq9EmdnHDSA",
        "outputId": "389afb1c-c7ea-4220-f8ff-f71bd706a870"
      },
      "execution_count": null,
      "outputs": [
        {
          "output_type": "execute_result",
          "data": {
            "text/plain": [
              "0.9166666666666666"
            ]
          },
          "metadata": {},
          "execution_count": 33
        }
      ]
    }
  ]
}