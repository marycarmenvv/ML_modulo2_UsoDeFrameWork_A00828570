{
  "nbformat": 4,
  "nbformat_minor": 0,
  "metadata": {
    "colab": {
      "provenance": [],
      "mount_file_id": "1KLbPYgIRjbGGXybxopl4kpdEw43k3lfz",
      "authorship_tag": "ABX9TyPLFjMY/3TZXir9u4bSssYY",
      "include_colab_link": true
    },
    "kernelspec": {
      "name": "python3",
      "display_name": "Python 3"
    },
    "language_info": {
      "name": "python"
    }
  },
  "cells": [
    {
      "cell_type": "markdown",
      "metadata": {
        "id": "view-in-github",
        "colab_type": "text"
      },
      "source": [
        "<a href=\"https://colab.research.google.com/github/marycarmenvv/ML_modulo2_UsoDeFrameWork_A00828570/blob/main/UsoDeFramework_A00828570.ipynb\" target=\"_parent\"><img src=\"https://colab.research.google.com/assets/colab-badge.svg\" alt=\"Open In Colab\"/></a>"
      ]
    },
    {
      "cell_type": "markdown",
      "source": [
        "# **Módulo 2. Uso de framework o biblioteca de aprendizaje máquina para la implementación de una solución. (Portafolio Implementación)**\n",
        "# María del Carmen Vargas Villarreal A00828570\n",
        "# Machine Learning: Decision Trees"
      ],
      "metadata": {
        "id": "dBojsadibBpF"
      }
    },
    {
      "cell_type": "code",
      "source": [],
      "metadata": {
        "id": "ea3moYFobJ95"
      },
      "execution_count": null,
      "outputs": []
    },
    {
      "cell_type": "code",
      "execution_count": null,
      "metadata": {
        "id": "IdTX9ILGUKOH"
      },
      "outputs": [],
      "source": []
    }
  ]
}